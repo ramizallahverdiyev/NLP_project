{
 "cells": [
  {
   "cell_type": "code",
   "execution_count": null,
   "id": "6c563c77",
   "metadata": {},
   "outputs": [],
   "source": [
    "from warnings import filterwarnings\n",
    "import matplotlib.pyplot as plt\n",
    "import numpy as np\n",
    "import pandas as pd\n",
    "from PIL import Image\n",
    "from nltk.corpus import stopwords\n",
    "from nltk.sentiment import SentimentIntensityAnalyzer\n",
    "from sklearn.ensemble import RandomForestClassifier\n",
    "from sklearn.linear_model import LogisticRegression\n",
    "from sklearn.model_selection import cross_val_score, GridSearchCV, cross_validate\n",
    "from sklearn.preprocessing import LabelEncoder\n",
    "from textblob import Word, TextBlob\n",
    "from wordcloud import WordCloud\n",
    "\n",
    "filterwarnings('ignore')\n",
    "pd.set_option('display.max_columns', None)\n",
    "pd.set_option('display.width', 200)\n",
    "pd.set_option('display.float_format', lambda x: '%.2f' % x)"
   ]
  },
  {
   "cell_type": "code",
   "execution_count": 2,
   "id": "006ca72d",
   "metadata": {},
   "outputs": [],
   "source": [
    "df = pd.read_csv('nlp/datasets/amazon_reviews.csv')"
   ]
  },
  {
   "cell_type": "code",
   "execution_count": 3,
   "id": "6b50301a",
   "metadata": {},
   "outputs": [
    {
     "data": {
      "application/vnd.microsoft.datawrangler.viewer.v0+json": {
       "columns": [
        {
         "name": "index",
         "rawType": "int64",
         "type": "integer"
        },
        {
         "name": "reviewerID",
         "rawType": "object",
         "type": "string"
        },
        {
         "name": "asin",
         "rawType": "object",
         "type": "string"
        },
        {
         "name": "reviewerName",
         "rawType": "object",
         "type": "unknown"
        },
        {
         "name": "helpful",
         "rawType": "object",
         "type": "string"
        },
        {
         "name": "reviewText",
         "rawType": "object",
         "type": "string"
        },
        {
         "name": "overall",
         "rawType": "float64",
         "type": "float"
        },
        {
         "name": "summary",
         "rawType": "object",
         "type": "string"
        },
        {
         "name": "unixReviewTime",
         "rawType": "int64",
         "type": "integer"
        },
        {
         "name": "reviewTime",
         "rawType": "object",
         "type": "string"
        },
        {
         "name": "day_diff",
         "rawType": "int64",
         "type": "integer"
        },
        {
         "name": "helpful_yes",
         "rawType": "int64",
         "type": "integer"
        },
        {
         "name": "total_vote",
         "rawType": "int64",
         "type": "integer"
        }
       ],
       "ref": "2c9bec9f-ad72-41ab-a653-4a708c22d225",
       "rows": [
        [
         "0",
         "A3SBTW3WS4IQSN",
         "B007WTAJTO",
         null,
         "[0, 0]",
         "No issues.",
         "4.0",
         "Four Stars",
         "1406073600",
         "2014-07-23",
         "138",
         "0",
         "0"
        ],
        [
         "1",
         "A18K1ODH1I2MVB",
         "B007WTAJTO",
         "0mie",
         "[0, 0]",
         "Purchased this for my device, it worked as advertised. You can never have too much phone memory, since I download a lot of stuff this was a no brainer for me.",
         "5.0",
         "MOAR SPACE!!!",
         "1382659200",
         "2013-10-25",
         "409",
         "0",
         "0"
        ],
        [
         "2",
         "A2FII3I2MBMUIA",
         "B007WTAJTO",
         "1K3",
         "[0, 0]",
         "it works as expected. I should have sprung for the higher capacity.  I think its made a bit cheesier than the earlier versions; the paint looks not as clean as before",
         "4.0",
         "nothing to really say....",
         "1356220800",
         "2012-12-23",
         "715",
         "0",
         "0"
        ],
        [
         "3",
         "A3H99DFEG68SR",
         "B007WTAJTO",
         "1m2",
         "[0, 0]",
         "This think has worked out great.Had a diff. bran 64gb card and if went south after 3 months.This one has held up pretty well since I had my S3, now on my Note3.*** update 3/21/14I've had this for a few months and have had ZERO issue's since it was transferred from my S3 to my Note3 and into a note2. This card is reliable and solid!Cheers!",
         "5.0",
         "Great buy at this price!!!  *** UPDATE",
         "1384992000",
         "2013-11-21",
         "382",
         "0",
         "0"
        ],
        [
         "4",
         "A375ZM4U047O79",
         "B007WTAJTO",
         "2&amp;1/2Men",
         "[0, 0]",
         "Bought it with Retail Packaging, arrived legit, in a orange envelope, english version not asian like the picture shows. arrived quickly, bought a 32 and 16 both retail packaging for my htc one sv and Lg Optimus, both cards in working order, probably best price you'll get for a nice sd card",
         "5.0",
         "best deal around",
         "1373673600",
         "2013-07-13",
         "513",
         "0",
         "0"
        ]
       ],
       "shape": {
        "columns": 12,
        "rows": 5
       }
      },
      "text/html": [
       "<div>\n",
       "<style scoped>\n",
       "    .dataframe tbody tr th:only-of-type {\n",
       "        vertical-align: middle;\n",
       "    }\n",
       "\n",
       "    .dataframe tbody tr th {\n",
       "        vertical-align: top;\n",
       "    }\n",
       "\n",
       "    .dataframe thead th {\n",
       "        text-align: right;\n",
       "    }\n",
       "</style>\n",
       "<table border=\"1\" class=\"dataframe\">\n",
       "  <thead>\n",
       "    <tr style=\"text-align: right;\">\n",
       "      <th></th>\n",
       "      <th>reviewerID</th>\n",
       "      <th>asin</th>\n",
       "      <th>reviewerName</th>\n",
       "      <th>helpful</th>\n",
       "      <th>reviewText</th>\n",
       "      <th>overall</th>\n",
       "      <th>summary</th>\n",
       "      <th>unixReviewTime</th>\n",
       "      <th>reviewTime</th>\n",
       "      <th>day_diff</th>\n",
       "      <th>helpful_yes</th>\n",
       "      <th>total_vote</th>\n",
       "    </tr>\n",
       "  </thead>\n",
       "  <tbody>\n",
       "    <tr>\n",
       "      <th>0</th>\n",
       "      <td>A3SBTW3WS4IQSN</td>\n",
       "      <td>B007WTAJTO</td>\n",
       "      <td>NaN</td>\n",
       "      <td>[0, 0]</td>\n",
       "      <td>No issues.</td>\n",
       "      <td>4.00</td>\n",
       "      <td>Four Stars</td>\n",
       "      <td>1406073600</td>\n",
       "      <td>2014-07-23</td>\n",
       "      <td>138</td>\n",
       "      <td>0</td>\n",
       "      <td>0</td>\n",
       "    </tr>\n",
       "    <tr>\n",
       "      <th>1</th>\n",
       "      <td>A18K1ODH1I2MVB</td>\n",
       "      <td>B007WTAJTO</td>\n",
       "      <td>0mie</td>\n",
       "      <td>[0, 0]</td>\n",
       "      <td>Purchased this for my device, it worked as adv...</td>\n",
       "      <td>5.00</td>\n",
       "      <td>MOAR SPACE!!!</td>\n",
       "      <td>1382659200</td>\n",
       "      <td>2013-10-25</td>\n",
       "      <td>409</td>\n",
       "      <td>0</td>\n",
       "      <td>0</td>\n",
       "    </tr>\n",
       "    <tr>\n",
       "      <th>2</th>\n",
       "      <td>A2FII3I2MBMUIA</td>\n",
       "      <td>B007WTAJTO</td>\n",
       "      <td>1K3</td>\n",
       "      <td>[0, 0]</td>\n",
       "      <td>it works as expected. I should have sprung for...</td>\n",
       "      <td>4.00</td>\n",
       "      <td>nothing to really say....</td>\n",
       "      <td>1356220800</td>\n",
       "      <td>2012-12-23</td>\n",
       "      <td>715</td>\n",
       "      <td>0</td>\n",
       "      <td>0</td>\n",
       "    </tr>\n",
       "    <tr>\n",
       "      <th>3</th>\n",
       "      <td>A3H99DFEG68SR</td>\n",
       "      <td>B007WTAJTO</td>\n",
       "      <td>1m2</td>\n",
       "      <td>[0, 0]</td>\n",
       "      <td>This think has worked out great.Had a diff. br...</td>\n",
       "      <td>5.00</td>\n",
       "      <td>Great buy at this price!!!  *** UPDATE</td>\n",
       "      <td>1384992000</td>\n",
       "      <td>2013-11-21</td>\n",
       "      <td>382</td>\n",
       "      <td>0</td>\n",
       "      <td>0</td>\n",
       "    </tr>\n",
       "    <tr>\n",
       "      <th>4</th>\n",
       "      <td>A375ZM4U047O79</td>\n",
       "      <td>B007WTAJTO</td>\n",
       "      <td>2&amp;amp;1/2Men</td>\n",
       "      <td>[0, 0]</td>\n",
       "      <td>Bought it with Retail Packaging, arrived legit...</td>\n",
       "      <td>5.00</td>\n",
       "      <td>best deal around</td>\n",
       "      <td>1373673600</td>\n",
       "      <td>2013-07-13</td>\n",
       "      <td>513</td>\n",
       "      <td>0</td>\n",
       "      <td>0</td>\n",
       "    </tr>\n",
       "  </tbody>\n",
       "</table>\n",
       "</div>"
      ],
      "text/plain": [
       "       reviewerID        asin  reviewerName helpful                                         reviewText  overall                                 summary  unixReviewTime  reviewTime  day_diff  \\\n",
       "0  A3SBTW3WS4IQSN  B007WTAJTO           NaN  [0, 0]                                         No issues.     4.00                              Four Stars      1406073600  2014-07-23       138   \n",
       "1  A18K1ODH1I2MVB  B007WTAJTO          0mie  [0, 0]  Purchased this for my device, it worked as adv...     5.00                           MOAR SPACE!!!      1382659200  2013-10-25       409   \n",
       "2  A2FII3I2MBMUIA  B007WTAJTO           1K3  [0, 0]  it works as expected. I should have sprung for...     4.00               nothing to really say....      1356220800  2012-12-23       715   \n",
       "3   A3H99DFEG68SR  B007WTAJTO           1m2  [0, 0]  This think has worked out great.Had a diff. br...     5.00  Great buy at this price!!!  *** UPDATE      1384992000  2013-11-21       382   \n",
       "4  A375ZM4U047O79  B007WTAJTO  2&amp;1/2Men  [0, 0]  Bought it with Retail Packaging, arrived legit...     5.00                        best deal around      1373673600  2013-07-13       513   \n",
       "\n",
       "   helpful_yes  total_vote  \n",
       "0            0           0  \n",
       "1            0           0  \n",
       "2            0           0  \n",
       "3            0           0  \n",
       "4            0           0  "
      ]
     },
     "execution_count": 3,
     "metadata": {},
     "output_type": "execute_result"
    }
   ],
   "source": [
    "df.head()"
   ]
  },
  {
   "cell_type": "markdown",
   "id": "4a89d025",
   "metadata": {},
   "source": [
    "### Text Preprocessing"
   ]
  },
  {
   "cell_type": "code",
   "execution_count": 4,
   "id": "178f727f",
   "metadata": {},
   "outputs": [
    {
     "data": {
      "application/vnd.microsoft.datawrangler.viewer.v0+json": {
       "columns": [
        {
         "name": "index",
         "rawType": "int64",
         "type": "integer"
        },
        {
         "name": "reviewText",
         "rawType": "object",
         "type": "unknown"
        }
       ],
       "ref": "399df7a8-0218-46be-8eb8-58b67e134f3c",
       "rows": [
        [
         "0",
         "no issues."
        ],
        [
         "1",
         "purchased this for my device, it worked as advertised. you can never have too much phone memory, since i download a lot of stuff this was a no brainer for me."
        ],
        [
         "2",
         "it works as expected. i should have sprung for the higher capacity.  i think its made a bit cheesier than the earlier versions; the paint looks not as clean as before"
        ],
        [
         "3",
         "this think has worked out great.had a diff. bran 64gb card and if went south after 3 months.this one has held up pretty well since i had my s3, now on my note3.*** update 3/21/14i've had this for a few months and have had zero issue's since it was transferred from my s3 to my note3 and into a note2. this card is reliable and solid!cheers!"
        ],
        [
         "4",
         "bought it with retail packaging, arrived legit, in a orange envelope, english version not asian like the picture shows. arrived quickly, bought a 32 and 16 both retail packaging for my htc one sv and lg optimus, both cards in working order, probably best price you'll get for a nice sd card"
        ],
        [
         "5",
         "it's mini storage.  it doesn't do anything else and it's not supposed to.  i purchased it to add additional storage to my microsoft surface pro tablet which only come in 64 and 128 gb.  it does what it's supposed to and sandisk has a long standing reputation that speaks for itself."
        ],
        [
         "6",
         "i have it in my phone and it never skips a beat. file transfers are speedy and have not had any corruption issues or memory fade issues as i would expect from the sandisk brand. great card to own. why entrust your precious files to a slightly cheaper piece of crap? if you lose everything can you forgive yourself for not spending the extra couple bucks on a trusted product that goes through good qa?"
        ],
        [
         "7",
         "it's hard to believe how affordable digital has become. 32 gb in a device one quarter the sie of postage stamp would have been science fiction less than a generation ago.i picked this up for portable music when i didn't want to schlep (or risk) a phone or ipod. works great with all sd card readers.select with confidence."
        ],
        [
         "8",
         "works in a htc rezound.  was running short of space on a 64gb sandisk so i ordered this when it came out, fast and no issues."
        ],
        [
         "9",
         "in my galaxy s4, super fast card, and am totally happy, not happy having to still type to fill the required words though"
        ],
        [
         "10",
         "i like this sd card because it can take music video downloads, personal videos, files,docs, and multimedia images with a fast transfer rate of class 10 speed. it can take games with large files very easily and still have enough space for apps. it&#34;s great for video cameras and camcorders with the supplied adapter. fits very easily into smartphones and tablets sd card slots. i recommend this 32gb sd card to everyone."
        ],
        [
         "11",
         "it works, but file writes are a bit slower than expected on a usb3 reader.also, both reads and writes are faster with the card inside the standard-size sd adapter (15 mb/s vs 10 write; 45 mb/s vs 22 mb/s read) on the same card reader.  can't figure why..."
        ],
        [
         "12",
         "the name of itself speaks out. go sandisk go!"
        ],
        [
         "13",
         "solid sdhc card that is fast (at reading and writing) fast (for recording video and pics), has great capacity, and is reasonably priced. i have had no issues with it.overall, highly recommend."
        ],
        [
         "14",
         "heard that the card's write speed is insufficient, however i have used it extensively and haven't had a single problem with it!!"
        ],
        [
         "15",
         "i bought this to use with my go pro hero 3 black edition. it requires a class 10 microsdxc card. so far i've had no issues with it. fast read/write, came with adapter, small packaging, but that's all it needed! comes with a nice hard plastic case to keep both dry and together if needed."
        ],
        [
         "16",
         "got this because i had a 2 gb one that filled up. i kept getting the insufficient disk space on my phone. my kids take my phone and do selfies. mostly my daughter. i had to get a bigger card. the 2gb one was a carry over from an old phone.needless to say this was sweet. plenty of space. and i dont have to delete pictures anymore. well for now at least.my daughter loves selfies."
        ],
        [
         "17",
         "class 10 speed rating for seamless full hd videothe sandisk ultra uhs-i card features a class 10 and uhs speed class 1 (u1) rating, the highest video performance available for recording uninterrupted full hd** video.flawless app performancethis card can retrieve stored data almost instantly, thanks to its up to 30mb/s read capability and fast bus interface. the sandisk ultra microsdhc and microsdxc uhs-i cards offer faster app loading and smoother, more fluid app performance.storage capacities up to 64gbthis card has plenty of room to accommodate full hd videos, mp3s, apps, and other memory-intensive mobile files. available in sizes up to 64gb, it can store all the apps, music, and video you want.android app for easy file managementthe included sandisk memory zone app lets you easily view, access, and backup all of your digital files from your phone's memory, additional memory card, and cloud service all in one convenient place. using the app, you can easily move files from your card to a number of cloud storage services.durable designsandisk ultra uhs-i memory cards can capture memories from -13 to 185 degrees fahrenheit with a shockproof, waterproof, and x-ray-proof design. your mobile device may not survive, but your sandisk memory card will."
        ],
        [
         "18",
         "the read and write speeds are better than the samsung sd card that i had previously. i would not hesitate to buy another one of these great micro sd cards from sandisk. i also own their clip plus mp3 player and it works very well. i think i'm becoming a fan of the sandisk products."
        ],
        [
         "19",
         "this works with the nl1520.  no video stuttering like with the 64gb.  blah blah blah blah to fill in the rest."
        ],
        [
         "20",
         "works as expected.  high transfer speed.  nice to have extra microsd adapters lying around since i always seem to misplace them.  mainly bought it to use in my nikon dslr since i can put the card directly into my (cm modded) nook hd+ tablet in the field and view my images on a larger screen."
        ],
        [
         "21",
         "works great in a samsung galaxy s3.  formatted straight away, full size there.  i can't really tell the speed difference between this one and a slower card it replaced.  i guess the io in the phone can't take advantage."
        ],
        [
         "22",
         "sandisk never disappoints. as always sandisk products are worth every penny. nice product and quality and works great. i recommend this product to everyone."
        ],
        [
         "23",
         "good price, works flawless in my samsung s4! normal sandisk quality! that is why i go with this brand and only this brand.."
        ],
        [
         "24",
         "san disk is hard to beat.  you will pay more for the brand but you get a quality product.  would purchase again."
        ],
        [
         "25",
         "installed in my blackberry q10 sqn100-1 and formatted. works just fine. plenty of storage space for pictures and videos of my son at the park."
        ],
        [
         "26",
         "i just received my card, it is the class 10 64gb with the correct serial#sdsdqua-064g-a11a. i received it in an unopened sandisk packaging. i am going to use it on my htc rezound, i hope it works. from what i have read, it will work after reformatting the disk. i will update this review if i have any issues using it, if not, my rating will remain unchanged..."
        ],
        [
         "27",
         "stuck it in my s2, formatted in settings, works great! already filled with music, pics and videos...  get this card, format it right, and you'll have no problems.  if your phone won't do it right, should have got a samsung! haha..."
        ],
        [
         "28",
         "i purchased two of these one for my samsung tablet and one for my samsung galaxy note. great hardware that is truly speedy, responsive and meets my needs!"
        ],
        [
         "29",
         "as advertised, specs match.  as long as the device you as using it in can handle it (i.e. usb 3.0, not some crapple bs) it delivers the advertised speed.  p.s. the speed is read, not write, but you knew that, right?"
        ],
        [
         "30",
         "this item is great!  i can't believe how small it is.  imagine 64gb this size back in the 70's when they had whole buildings full of computers that couldn't pack this much space!  great item."
        ],
        [
         "31",
         "i've been trying for a while to get a hold of a 32gb micro sd for my phone and tablet.  it's pretty fast compared to the 16gb cards i've been using.  i really saw the performance boost with my phone, which i have many apps, pictures, music, and other documents on.  the phone boots fully stable in about 2 mins as apposed to 5-6 mins.  my computer also can write to these cards much faster than the 16gb ones i was using.  if you phone, tablet or any other device can support it i recommend you purchase these.  also you pay like half the price using amazon as opposed to other retail stores who's price is at least double or more.  i've seen these same cards going for about $72 in my area."
        ],
        [
         "32",
         "i bought 2 of those sandisk 32 gb microsd , used them on my galaxy note and galaxy s4first one , my phone started saying it was removed , then recognize it again :) then diedi thought it's just a luck , plugged in the 2nd one :) stayed for about 2 months and died suddenly ! and lost everythingnever buying from sandisk again .. ever"
        ],
        [
         "33",
         "the memory card is an excellent condition and work as described. dependable and easy to use. an excellent choice for the enthusiast who requires more storage."
        ],
        [
         "34",
         "i've got a couple of these in varying sizes. i've had no problems and no complaints about speed. i always end up buying more because the prices are so low for what you get."
        ],
        [
         "35",
         "i only had 8 gigs of memory on my note 2 and was running out of room. now i have so much memory space available i don't know what to do with it."
        ],
        [
         "36",
         "bought it for my surface pro. i've had it in there for a few months and i've had no problems. very fast and stable."
        ],
        [
         "37",
         "i would recommend this card to everyone.data transfer speeds - excellent with this card on my galaxy s2.  didn't need to format the card or anything. i am 100% satisfied."
        ],
        [
         "38",
         "i bougth this micro sd card after some trubles with other that i got from kingston, i can tell that sandisk is other quality, this is the best, my i9300 phone can read a 64gb very fast, the dta transfer speed from my pc to my is amazing, if you are looking for additional storage to you phone, for music, pictures and other type of files, this is for you.pros-very good quality materials of construction-amazing speedupdate after one year this memory is damaged i can not delete or put new files on it, i can not format this memory, i tried to format with my phone, with my pc, with a camera and nothing, now this is like a 64gb cd, the data in the memory is only available to read but i can not move, or delete it, i bought this memory to be used to backup all my data of my android device but now is only a readable memory i can not write data on it any more, i hope sandisk make a better products in the future!!! total disagree i will buy a samsung memory card expected a better quality."
        ],
        [
         "39",
         "using this in a contout gps camera,  don't waste your time buying any other brand it will be a waste. buy the best to start with."
        ],
        [
         "40",
         "this is a fantastic little drive, has all the gigabytes it says, works in all ways i can discern and i use it to hold the flac recordings i play on my excellent fiio x5 digital audio player. this is the real thing and not one of the fakes that, evidently, are out there."
        ],
        [
         "41",
         "i am very happy with this micro sd.  i could tell the difference in the response time in my bb curve as well as my asus tablet.  if you want something that can transfer files photos, videos, and music faster this is the micro sd card for you. now i will say this there are faster cards out there but not at this price.  this does the trick for my devices.  now it you are a professional photographer you might want to go with the ultra 3 micro sd but if you are an everyday user this will work wonders for you device."
        ],
        [
         "42",
         "i've purchased several of these little babies over the years, and i always buy sandisk. i've never had one fail, the price is great for the amount of storage you get."
        ],
        [
         "43",
         "ordered this for a galaxy s3.  lasted a few months and then broke.  is not accessible on several different pc's.says \"limited lifetime\" warranty - bs.  you have one month for eco zone.  not only did i lose pictures but now i am out $$ because of a crappy return policy.in the future i will be buying kingston, not sandisk.-----------------update:  amazon customer service made good and refunded my purchase price.  i still will not be buying any more sandisk memory cards however..."
        ],
        [
         "44",
         "more like 8mb/s in my note 10.1 and that's using sandisk's own app. a bit faster in my note ii, but still a disappointment for devices with quad core processors. not sure if it's the card or the device, so benefit of the doubt and four stars."
        ],
        [
         "45",
         "not much to say other than plug and play, good quality and fits a lot of video ...good good good"
        ],
        [
         "46",
         "a new camcorder required fast sd (micro) and sandisk products have always provided first class service, so the extra cost is well worth it."
        ],
        [
         "47",
         "this tiny marvel does what it claims.  the only possible problem is that it is so small that you may lose it if you happen to drop it during handling.  but with 16 gb capacity, you won't be handling it often."
        ],
        [
         "48",
         "it does the job and the price was right. it came quickly so i'm very happy for the purchase.  i would recommend it and would but it again."
        ],
        [
         "49",
         "i used this for a few months in my phone, then it decided to quit mounting. i lost some pictures of pets who died shortly after. i got a replacement card, but i had to send in the old one, giving up any chance of recovering its contents. the new one's worked fine, but failing after 3 months in inexcusable."
        ]
       ],
       "shape": {
        "columns": 1,
        "rows": 4915
       }
      },
      "text/plain": [
       "0                                              no issues.\n",
       "1       purchased this for my device, it worked as adv...\n",
       "2       it works as expected. i should have sprung for...\n",
       "3       this think has worked out great.had a diff. br...\n",
       "4       bought it with retail packaging, arrived legit...\n",
       "                              ...                        \n",
       "4910    i bought this sandisk 16gb class 10 to use wit...\n",
       "4911    used this for extending the capabilities of my...\n",
       "4912    great card that is very fast and reliable. it ...\n",
       "4913    good amount of space for the stuff i want to d...\n",
       "4914    i've heard bad things about this 64gb micro sd...\n",
       "Name: reviewText, Length: 4915, dtype: object"
      ]
     },
     "execution_count": 4,
     "metadata": {},
     "output_type": "execute_result"
    }
   ],
   "source": [
    "df['reviewText'] = df['reviewText'].str.lower()\n",
    "df['reviewText']"
   ]
  },
  {
   "cell_type": "markdown",
   "id": "ef96c6af",
   "metadata": {},
   "source": [
    "### Punctuations"
   ]
  },
  {
   "cell_type": "code",
   "execution_count": 5,
   "id": "091ae251",
   "metadata": {},
   "outputs": [
    {
     "data": {
      "application/vnd.microsoft.datawrangler.viewer.v0+json": {
       "columns": [
        {
         "name": "index",
         "rawType": "int64",
         "type": "integer"
        },
        {
         "name": "reviewText",
         "rawType": "object",
         "type": "string"
        }
       ],
       "ref": "d513074e-c4a7-4667-847e-522433e65383",
       "rows": [
        [
         "0",
         "no issues"
        ],
        [
         "1",
         "purchased this for my device it worked as advertised you can never have too much phone memory since i download a lot of stuff this was a no brainer for me"
        ],
        [
         "2",
         "it works as expected i should have sprung for the higher capacity  i think its made a bit cheesier than the earlier versions the paint looks not as clean as before"
        ],
        [
         "3",
         "this think has worked out greathad a diff bran 64gb card and if went south after 3 monthsthis one has held up pretty well since i had my s3 now on my note3 update 32114ive had this for a few months and have had zero issues since it was transferred from my s3 to my note3 and into a note2 this card is reliable and solidcheers"
        ],
        [
         "4",
         "bought it with retail packaging arrived legit in a orange envelope english version not asian like the picture shows arrived quickly bought a 32 and 16 both retail packaging for my htc one sv and lg optimus both cards in working order probably best price youll get for a nice sd card"
        ]
       ],
       "shape": {
        "columns": 1,
        "rows": 5
       }
      },
      "text/plain": [
       "0                                            no issues\n",
       "1    purchased this for my device it worked as adve...\n",
       "2    it works as expected i should have sprung for ...\n",
       "3    this think has worked out greathad a diff bran...\n",
       "4    bought it with retail packaging arrived legit ...\n",
       "Name: reviewText, dtype: object"
      ]
     },
     "execution_count": 5,
     "metadata": {},
     "output_type": "execute_result"
    }
   ],
   "source": [
    "df['reviewText'] = df['reviewText'].str.replace('[^\\w\\s]', '', regex=True)\n",
    "df['reviewText'].head()"
   ]
  },
  {
   "cell_type": "markdown",
   "id": "d43f0136",
   "metadata": {},
   "source": [
    "### Numbers"
   ]
  },
  {
   "cell_type": "code",
   "execution_count": 6,
   "id": "da02bcde",
   "metadata": {},
   "outputs": [
    {
     "data": {
      "application/vnd.microsoft.datawrangler.viewer.v0+json": {
       "columns": [
        {
         "name": "index",
         "rawType": "int64",
         "type": "integer"
        },
        {
         "name": "reviewText",
         "rawType": "object",
         "type": "string"
        }
       ],
       "ref": "ea32970a-81fc-4b61-adc7-852ef05d7a78",
       "rows": [
        [
         "0",
         "no issues"
        ],
        [
         "1",
         "purchased this for my device it worked as advertised you can never have too much phone memory since i download a lot of stuff this was a no brainer for me"
        ],
        [
         "2",
         "it works as expected i should have sprung for the higher capacity  i think its made a bit cheesier than the earlier versions the paint looks not as clean as before"
        ],
        [
         "3",
         "this think has worked out greathad a diff bran gb card and if went south after  monthsthis one has held up pretty well since i had my s now on my note update ive had this for a few months and have had zero issues since it was transferred from my s to my note and into a note this card is reliable and solidcheers"
        ],
        [
         "4",
         "bought it with retail packaging arrived legit in a orange envelope english version not asian like the picture shows arrived quickly bought a  and  both retail packaging for my htc one sv and lg optimus both cards in working order probably best price youll get for a nice sd card"
        ]
       ],
       "shape": {
        "columns": 1,
        "rows": 5
       }
      },
      "text/plain": [
       "0                                            no issues\n",
       "1    purchased this for my device it worked as adve...\n",
       "2    it works as expected i should have sprung for ...\n",
       "3    this think has worked out greathad a diff bran...\n",
       "4    bought it with retail packaging arrived legit ...\n",
       "Name: reviewText, dtype: object"
      ]
     },
     "execution_count": 6,
     "metadata": {},
     "output_type": "execute_result"
    }
   ],
   "source": [
    "df['reviewText'] = df['reviewText'].str.replace('\\d', '', regex=True)\n",
    "df['reviewText'].head()"
   ]
  },
  {
   "cell_type": "markdown",
   "id": "3ea7ff55",
   "metadata": {},
   "source": [
    "### Stop Words"
   ]
  },
  {
   "cell_type": "code",
   "execution_count": null,
   "id": "604f9193",
   "metadata": {},
   "outputs": [
    {
     "name": "stderr",
     "output_type": "stream",
     "text": [
      "[nltk_data] Downloading package stopwords to\n",
      "[nltk_data]     C:\\Users\\ramiz\\AppData\\Roaming\\nltk_data...\n",
      "[nltk_data]   Package stopwords is already up-to-date!\n"
     ]
    },
    {
     "data": {
      "text/plain": [
       "True"
      ]
     },
     "execution_count": 7,
     "metadata": {},
     "output_type": "execute_result"
    }
   ],
   "source": [
    "nltk.download('stopwords')"
   ]
  },
  {
   "cell_type": "code",
   "execution_count": 8,
   "id": "5dd24c50",
   "metadata": {},
   "outputs": [
    {
     "data": {
      "text/plain": [
       "['a',\n",
       " 'about',\n",
       " 'above',\n",
       " 'after',\n",
       " 'again',\n",
       " 'against',\n",
       " 'ain',\n",
       " 'all',\n",
       " 'am',\n",
       " 'an',\n",
       " 'and',\n",
       " 'any',\n",
       " 'are',\n",
       " 'aren',\n",
       " \"aren't\",\n",
       " 'as',\n",
       " 'at',\n",
       " 'be',\n",
       " 'because',\n",
       " 'been',\n",
       " 'before',\n",
       " 'being',\n",
       " 'below',\n",
       " 'between',\n",
       " 'both',\n",
       " 'but',\n",
       " 'by',\n",
       " 'can',\n",
       " 'couldn',\n",
       " \"couldn't\",\n",
       " 'd',\n",
       " 'did',\n",
       " 'didn',\n",
       " \"didn't\",\n",
       " 'do',\n",
       " 'does',\n",
       " 'doesn',\n",
       " \"doesn't\",\n",
       " 'doing',\n",
       " 'don',\n",
       " \"don't\",\n",
       " 'down',\n",
       " 'during',\n",
       " 'each',\n",
       " 'few',\n",
       " 'for',\n",
       " 'from',\n",
       " 'further',\n",
       " 'had',\n",
       " 'hadn',\n",
       " \"hadn't\",\n",
       " 'has',\n",
       " 'hasn',\n",
       " \"hasn't\",\n",
       " 'have',\n",
       " 'haven',\n",
       " \"haven't\",\n",
       " 'having',\n",
       " 'he',\n",
       " \"he'd\",\n",
       " \"he'll\",\n",
       " 'her',\n",
       " 'here',\n",
       " 'hers',\n",
       " 'herself',\n",
       " \"he's\",\n",
       " 'him',\n",
       " 'himself',\n",
       " 'his',\n",
       " 'how',\n",
       " 'i',\n",
       " \"i'd\",\n",
       " 'if',\n",
       " \"i'll\",\n",
       " \"i'm\",\n",
       " 'in',\n",
       " 'into',\n",
       " 'is',\n",
       " 'isn',\n",
       " \"isn't\",\n",
       " 'it',\n",
       " \"it'd\",\n",
       " \"it'll\",\n",
       " \"it's\",\n",
       " 'its',\n",
       " 'itself',\n",
       " \"i've\",\n",
       " 'just',\n",
       " 'll',\n",
       " 'm',\n",
       " 'ma',\n",
       " 'me',\n",
       " 'mightn',\n",
       " \"mightn't\",\n",
       " 'more',\n",
       " 'most',\n",
       " 'mustn',\n",
       " \"mustn't\",\n",
       " 'my',\n",
       " 'myself',\n",
       " 'needn',\n",
       " \"needn't\",\n",
       " 'no',\n",
       " 'nor',\n",
       " 'not',\n",
       " 'now',\n",
       " 'o',\n",
       " 'of',\n",
       " 'off',\n",
       " 'on',\n",
       " 'once',\n",
       " 'only',\n",
       " 'or',\n",
       " 'other',\n",
       " 'our',\n",
       " 'ours',\n",
       " 'ourselves',\n",
       " 'out',\n",
       " 'over',\n",
       " 'own',\n",
       " 're',\n",
       " 's',\n",
       " 'same',\n",
       " 'shan',\n",
       " \"shan't\",\n",
       " 'she',\n",
       " \"she'd\",\n",
       " \"she'll\",\n",
       " \"she's\",\n",
       " 'should',\n",
       " 'shouldn',\n",
       " \"shouldn't\",\n",
       " \"should've\",\n",
       " 'so',\n",
       " 'some',\n",
       " 'such',\n",
       " 't',\n",
       " 'than',\n",
       " 'that',\n",
       " \"that'll\",\n",
       " 'the',\n",
       " 'their',\n",
       " 'theirs',\n",
       " 'them',\n",
       " 'themselves',\n",
       " 'then',\n",
       " 'there',\n",
       " 'these',\n",
       " 'they',\n",
       " \"they'd\",\n",
       " \"they'll\",\n",
       " \"they're\",\n",
       " \"they've\",\n",
       " 'this',\n",
       " 'those',\n",
       " 'through',\n",
       " 'to',\n",
       " 'too',\n",
       " 'under',\n",
       " 'until',\n",
       " 'up',\n",
       " 've',\n",
       " 'very',\n",
       " 'was',\n",
       " 'wasn',\n",
       " \"wasn't\",\n",
       " 'we',\n",
       " \"we'd\",\n",
       " \"we'll\",\n",
       " \"we're\",\n",
       " 'were',\n",
       " 'weren',\n",
       " \"weren't\",\n",
       " \"we've\",\n",
       " 'what',\n",
       " 'when',\n",
       " 'where',\n",
       " 'which',\n",
       " 'while',\n",
       " 'who',\n",
       " 'whom',\n",
       " 'why',\n",
       " 'will',\n",
       " 'with',\n",
       " 'won',\n",
       " \"won't\",\n",
       " 'wouldn',\n",
       " \"wouldn't\",\n",
       " 'y',\n",
       " 'you',\n",
       " \"you'd\",\n",
       " \"you'll\",\n",
       " 'your',\n",
       " \"you're\",\n",
       " 'yours',\n",
       " 'yourself',\n",
       " 'yourselves',\n",
       " \"you've\"]"
      ]
     },
     "execution_count": 8,
     "metadata": {},
     "output_type": "execute_result"
    }
   ],
   "source": [
    "sw = stopwords.words('english')\n",
    "sw"
   ]
  },
  {
   "cell_type": "code",
   "execution_count": 9,
   "id": "ecd389f5",
   "metadata": {},
   "outputs": [
    {
     "data": {
      "application/vnd.microsoft.datawrangler.viewer.v0+json": {
       "columns": [
        {
         "name": "index",
         "rawType": "int64",
         "type": "integer"
        },
        {
         "name": "reviewText",
         "rawType": "object",
         "type": "string"
        }
       ],
       "ref": "2129d618-2edb-45db-9ee5-570e817f02f7",
       "rows": [
        [
         "0",
         "issues"
        ],
        [
         "1",
         "purchased device worked advertised never much phone memory since download lot stuff brainer"
        ],
        [
         "2",
         "works expected sprung higher capacity think made bit cheesier earlier versions paint looks clean"
        ],
        [
         "3",
         "think worked greathad diff bran gb card went south monthsthis one held pretty well since note update ive months zero issues since transferred note note card reliable solidcheers"
        ],
        [
         "4",
         "bought retail packaging arrived legit orange envelope english version asian like picture shows arrived quickly bought retail packaging htc one sv lg optimus cards working order probably best price youll get nice sd card"
        ]
       ],
       "shape": {
        "columns": 1,
        "rows": 5
       }
      },
      "text/plain": [
       "0                                               issues\n",
       "1    purchased device worked advertised never much ...\n",
       "2    works expected sprung higher capacity think ma...\n",
       "3    think worked greathad diff bran gb card went s...\n",
       "4    bought retail packaging arrived legit orange e...\n",
       "Name: reviewText, dtype: object"
      ]
     },
     "execution_count": 9,
     "metadata": {},
     "output_type": "execute_result"
    }
   ],
   "source": [
    "df['reviewText'] = df['reviewText'].apply(lambda x: ' '.join(x for x in str(x).split() if x not in (sw)))\n",
    "df['reviewText'].head()"
   ]
  },
  {
   "cell_type": "markdown",
   "id": "924c8993",
   "metadata": {},
   "source": [
    "### Rare words"
   ]
  },
  {
   "cell_type": "code",
   "execution_count": 10,
   "id": "8f34b5da",
   "metadata": {},
   "outputs": [],
   "source": [
    "temp_df = pd.Series(' '.join(df['reviewText']).split()).value_counts()\n",
    "drops = temp_df[temp_df <= 1]\n",
    "df['reviewText'] = df['reviewText'].apply(lambda x: \" \".join(x for x in x.split() if not x in drops))"
   ]
  },
  {
   "cell_type": "code",
   "execution_count": 11,
   "id": "97b45adc",
   "metadata": {},
   "outputs": [
    {
     "name": "stdout",
     "output_type": "stream",
     "text": [
      "All words: 9701\n",
      "Rare words: (5612,)\n",
      "Common words: 4089\n"
     ]
    },
    {
     "data": {
      "application/vnd.microsoft.datawrangler.viewer.v0+json": {
       "columns": [
        {
         "name": "index",
         "rawType": "int64",
         "type": "integer"
        },
        {
         "name": "reviewText",
         "rawType": "object",
         "type": "string"
        }
       ],
       "ref": "0ac55371-505f-4e15-a3ce-55ef1c4e8abe",
       "rows": [
        [
         "0",
         "issues"
        ],
        [
         "1",
         "purchased device worked advertised never much phone memory since download lot stuff brainer"
        ],
        [
         "2",
         "works expected higher capacity think made bit earlier versions paint looks clean"
        ],
        [
         "3",
         "think worked gb card went south one held pretty well since note update ive months zero issues since transferred note note card reliable"
        ],
        [
         "4",
         "bought retail packaging arrived legit envelope version asian like picture shows arrived quickly bought retail packaging htc one lg optimus cards working order probably best price youll get nice sd card"
        ]
       ],
       "shape": {
        "columns": 1,
        "rows": 5
       }
      },
      "text/plain": [
       "0                                               issues\n",
       "1    purchased device worked advertised never much ...\n",
       "2    works expected higher capacity think made bit ...\n",
       "3    think worked gb card went south one held prett...\n",
       "4    bought retail packaging arrived legit envelope...\n",
       "Name: reviewText, dtype: object"
      ]
     },
     "execution_count": 11,
     "metadata": {},
     "output_type": "execute_result"
    }
   ],
   "source": [
    "print('All words:', len(temp_df))\n",
    "print('Rare words:', drops.shape)\n",
    "print('Common words:', len(temp_df) - len(drops))\n",
    "df['reviewText'].head()"
   ]
  },
  {
   "cell_type": "markdown",
   "id": "d979b5b0",
   "metadata": {},
   "source": [
    "### Tokenization"
   ]
  },
  {
   "cell_type": "code",
   "execution_count": 12,
   "id": "5b53e3ae",
   "metadata": {},
   "outputs": [
    {
     "name": "stderr",
     "output_type": "stream",
     "text": [
      "[nltk_data] Downloading package punkt to\n",
      "[nltk_data]     C:\\Users\\ramiz\\AppData\\Roaming\\nltk_data...\n",
      "[nltk_data]   Unzipping tokenizers\\punkt.zip.\n",
      "[nltk_data] Downloading package punkt_tab to\n",
      "[nltk_data]     C:\\Users\\ramiz\\AppData\\Roaming\\nltk_data...\n",
      "[nltk_data]   Package punkt_tab is already up-to-date!\n"
     ]
    }
   ],
   "source": [
    "from nltk.tokenize import word_tokenize\n",
    "import nltk\n",
    "\n",
    "nltk.download('punkt')\n",
    "nltk.download('punkt_tab')\n",
    "\n",
    "df['reviewText'] = df['reviewText'].apply(lambda x: word_tokenize(x))"
   ]
  },
  {
   "cell_type": "code",
   "execution_count": 13,
   "id": "c44761b0",
   "metadata": {},
   "outputs": [
    {
     "data": {
      "application/vnd.microsoft.datawrangler.viewer.v0+json": {
       "columns": [
        {
         "name": "index",
         "rawType": "int64",
         "type": "integer"
        },
        {
         "name": "reviewText",
         "rawType": "object",
         "type": "unknown"
        }
       ],
       "ref": "ea4e3439-699c-458e-b8f8-649ac8e7ef6c",
       "rows": [
        [
         "0",
         "['issues']"
        ],
        [
         "1",
         "['purchased', 'device', 'worked', 'advertised', 'never', 'much', 'phone', 'memory', 'since', 'download', 'lot', 'stuff', 'brainer']"
        ],
        [
         "2",
         "['works', 'expected', 'higher', 'capacity', 'think', 'made', 'bit', 'earlier', 'versions', 'paint', 'looks', 'clean']"
        ],
        [
         "3",
         "['think', 'worked', 'gb', 'card', 'went', 'south', 'one', 'held', 'pretty', 'well', 'since', 'note', 'update', 'ive', 'months', 'zero', 'issues', 'since', 'transferred', 'note', 'note', 'card', 'reliable']"
        ],
        [
         "4",
         "['bought', 'retail', 'packaging', 'arrived', 'legit', 'envelope', 'version', 'asian', 'like', 'picture', 'shows', 'arrived', 'quickly', 'bought', 'retail', 'packaging', 'htc', 'one', 'lg', 'optimus', 'cards', 'working', 'order', 'probably', 'best', 'price', 'youll', 'get', 'nice', 'sd', 'card']"
        ]
       ],
       "shape": {
        "columns": 1,
        "rows": 5
       }
      },
      "text/plain": [
       "0                                             [issues]\n",
       "1    [purchased, device, worked, advertised, never,...\n",
       "2    [works, expected, higher, capacity, think, mad...\n",
       "3    [think, worked, gb, card, went, south, one, he...\n",
       "4    [bought, retail, packaging, arrived, legit, en...\n",
       "Name: reviewText, dtype: object"
      ]
     },
     "execution_count": 13,
     "metadata": {},
     "output_type": "execute_result"
    }
   ],
   "source": [
    "df['reviewText'].head()"
   ]
  },
  {
   "cell_type": "markdown",
   "id": "03061df8",
   "metadata": {},
   "source": [
    "### Lemmatization"
   ]
  },
  {
   "cell_type": "code",
   "execution_count": 14,
   "id": "4204fb15",
   "metadata": {},
   "outputs": [
    {
     "name": "stderr",
     "output_type": "stream",
     "text": [
      "[nltk_data] Downloading package wordnet to\n",
      "[nltk_data]     C:\\Users\\ramiz\\AppData\\Roaming\\nltk_data...\n",
      "[nltk_data]   Package wordnet is already up-to-date!\n"
     ]
    },
    {
     "data": {
      "application/vnd.microsoft.datawrangler.viewer.v0+json": {
       "columns": [
        {
         "name": "index",
         "rawType": "int64",
         "type": "integer"
        },
        {
         "name": "reviewText",
         "rawType": "object",
         "type": "unknown"
        }
       ],
       "ref": "56f10452-e232-4c0a-b4c7-6df6471700b7",
       "rows": [
        [
         "0",
         "['issue']"
        ],
        [
         "1",
         "['purchased', 'device', 'worked', 'advertised', 'never', 'much', 'phone', 'memory', 'since', 'download', 'lot', 'stuff', 'brainer']"
        ],
        [
         "2",
         "['work', 'expected', 'higher', 'capacity', 'think', 'made', 'bit', 'earlier', 'version', 'paint', 'look', 'clean']"
        ],
        [
         "3",
         "['think', 'worked', 'gb', 'card', 'went', 'south', 'one', 'held', 'pretty', 'well', 'since', 'note', 'update', 'ive', 'month', 'zero', 'issue', 'since', 'transferred', 'note', 'note', 'card', 'reliable']"
        ],
        [
         "4",
         "['bought', 'retail', 'packaging', 'arrived', 'legit', 'envelope', 'version', 'asian', 'like', 'picture', 'show', 'arrived', 'quickly', 'bought', 'retail', 'packaging', 'htc', 'one', 'lg', 'optimus', 'card', 'working', 'order', 'probably', 'best', 'price', 'youll', 'get', 'nice', 'sd', 'card']"
        ]
       ],
       "shape": {
        "columns": 1,
        "rows": 5
       }
      },
      "text/plain": [
       "0                                              [issue]\n",
       "1    [purchased, device, worked, advertised, never,...\n",
       "2    [work, expected, higher, capacity, think, made...\n",
       "3    [think, worked, gb, card, went, south, one, he...\n",
       "4    [bought, retail, packaging, arrived, legit, en...\n",
       "Name: reviewText, dtype: object"
      ]
     },
     "execution_count": 14,
     "metadata": {},
     "output_type": "execute_result"
    }
   ],
   "source": [
    "nltk.download('wordnet')\n",
    "df['reviewText'] = df['reviewText'].apply(lambda x: [Word(word).lemmatize() for word in x])\n",
    "df['reviewText'].head()"
   ]
  },
  {
   "cell_type": "code",
   "execution_count": 15,
   "id": "31a5e383",
   "metadata": {},
   "outputs": [],
   "source": [
    "# df.to_csv(\"nlp/datasets/amazon_reviews_preprocessed.csv\", index=False)"
   ]
  }
 ],
 "metadata": {
  "kernelspec": {
   "display_name": ".venv (3.12.9)",
   "language": "python",
   "name": "python3"
  },
  "language_info": {
   "codemirror_mode": {
    "name": "ipython",
    "version": 3
   },
   "file_extension": ".py",
   "mimetype": "text/x-python",
   "name": "python",
   "nbconvert_exporter": "python",
   "pygments_lexer": "ipython3",
   "version": "3.12.9"
  }
 },
 "nbformat": 4,
 "nbformat_minor": 5
}
