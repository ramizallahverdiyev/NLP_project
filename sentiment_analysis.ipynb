{
 "cells": [
  {
   "cell_type": "code",
   "execution_count": 5,
   "id": "afdd9632",
   "metadata": {},
   "outputs": [],
   "source": [
    "from warnings import filterwarnings\n",
    "import matplotlib.pyplot as plt\n",
    "import numpy as np\n",
    "import pandas as pd\n",
    "from PIL import Image\n",
    "from nltk.corpus import stopwords\n",
    "from nltk.sentiment import SentimentIntensityAnalyzer\n",
    "from sklearn.ensemble import RandomForestClassifier\n",
    "from sklearn.linear_model import LogisticRegression\n",
    "from sklearn.model_selection import cross_val_score, GridSearchCV, cross_validate\n",
    "from sklearn.preprocessing import LabelEncoder\n",
    "from textblob import Word, TextBlob\n",
    "from wordcloud import WordCloud\n",
    "import nltk\n",
    "filterwarnings('ignore')\n",
    "pd.set_option('display.max_columns', None)\n",
    "pd.set_option('display.width', 200)\n",
    "pd.set_option('display.float_format', lambda x: '%.2f' % x)"
   ]
  },
  {
   "cell_type": "code",
   "execution_count": 4,
   "id": "0032d198",
   "metadata": {},
   "outputs": [
    {
     "data": {
      "application/vnd.microsoft.datawrangler.viewer.v0+json": {
       "columns": [
        {
         "name": "index",
         "rawType": "int64",
         "type": "integer"
        },
        {
         "name": "reviewText",
         "rawType": "object",
         "type": "string"
        }
       ],
       "ref": "ce2bd5f7-9eb9-4481-88f7-8d5d533c834e",
       "rows": [
        [
         "0",
         "issue"
        ],
        [
         "1",
         "purchased device worked advertised never much phone memory since download lot stuff brainer"
        ],
        [
         "2",
         "work expected higher capacity think made bit earlier version paint look clean"
        ],
        [
         "3",
         "think worked gb card went south one held pretty well since note update ive month zero issue since transferred note note card reliable"
        ],
        [
         "4",
         "bought retail packaging arrived legit envelope version asian like picture show arrived quickly bought retail packaging htc one lg optimus card working order probably best price youll get nice sd card"
        ]
       ],
       "shape": {
        "columns": 1,
        "rows": 5
       }
      },
      "text/plain": [
       "0                                                issue\n",
       "1    purchased device worked advertised never much ...\n",
       "2    work expected higher capacity think made bit e...\n",
       "3    think worked gb card went south one held prett...\n",
       "4    bought retail packaging arrived legit envelope...\n",
       "Name: reviewText, dtype: object"
      ]
     },
     "execution_count": 4,
     "metadata": {},
     "output_type": "execute_result"
    }
   ],
   "source": [
    "import pandas as pd\n",
    "import ast\n",
    "\n",
    "df = pd.read_csv(\"nlp/datasets/amazon_reviews_preprocessed.csv\")\n",
    "\n",
    "df['reviewText'] = df['reviewText'].apply(lambda x: \" \".join(ast.literal_eval(x)) if isinstance(x, str) else x)\n",
    "\n",
    "df['reviewText'].head()"
   ]
  },
  {
   "cell_type": "code",
   "execution_count": 6,
   "id": "727f2a7f",
   "metadata": {},
   "outputs": [
    {
     "name": "stderr",
     "output_type": "stream",
     "text": [
      "[nltk_data] Downloading package vader_lexicon to\n",
      "[nltk_data]     C:\\Users\\ramiz\\AppData\\Roaming\\nltk_data...\n"
     ]
    },
    {
     "data": {
      "text/plain": [
       "True"
      ]
     },
     "execution_count": 6,
     "metadata": {},
     "output_type": "execute_result"
    }
   ],
   "source": [
    "import nltk\n",
    "nltk.download('vader_lexicon')"
   ]
  },
  {
   "cell_type": "code",
   "execution_count": 10,
   "id": "fb98efec",
   "metadata": {},
   "outputs": [
    {
     "data": {
      "text/plain": [
       "{'neg': 0.0, 'neu': 0.308, 'pos': 0.692, 'compound': 0.6696}"
      ]
     },
     "execution_count": 10,
     "metadata": {},
     "output_type": "execute_result"
    }
   ],
   "source": [
    "sia = SentimentIntensityAnalyzer()\n",
    "sia.polarity_scores(\"I love this product!\")"
   ]
  },
  {
   "cell_type": "code",
   "execution_count": 11,
   "id": "06cf3eb5",
   "metadata": {},
   "outputs": [
    {
     "data": {
      "text/plain": [
       "{'neg': 0.666, 'neu': 0.334, 'pos': 0.0, 'compound': -0.6114}"
      ]
     },
     "execution_count": 11,
     "metadata": {},
     "output_type": "execute_result"
    }
   ],
   "source": [
    "sia.polarity_scores(\"I hate this product!\")"
   ]
  },
  {
   "cell_type": "code",
   "execution_count": 12,
   "id": "aa910895",
   "metadata": {},
   "outputs": [],
   "source": [
    "df['polarity_scores'] = df['reviewText'].apply(lambda x: sia.polarity_scores(x)['compound'])"
   ]
  },
  {
   "cell_type": "code",
   "execution_count": 14,
   "id": "5bf87459",
   "metadata": {},
   "outputs": [
    {
     "data": {
      "application/vnd.microsoft.datawrangler.viewer.v0+json": {
       "columns": [
        {
         "name": "index",
         "rawType": "int64",
         "type": "integer"
        },
        {
         "name": "reviewText",
         "rawType": "object",
         "type": "string"
        },
        {
         "name": "overall",
         "rawType": "float64",
         "type": "float"
        },
        {
         "name": "polarity_scores",
         "rawType": "float64",
         "type": "float"
        }
       ],
       "ref": "67479aa4-a0fc-4e6b-b9c4-9a44a08c7945",
       "rows": [
        [
         "0",
         "issue",
         "4.0",
         "0.0"
        ],
        [
         "1",
         "purchased device worked advertised never much phone memory since download lot stuff brainer",
         "5.0",
         "0.0"
        ],
        [
         "2",
         "work expected higher capacity think made bit earlier version paint look clean",
         "4.0",
         "0.4019"
        ],
        [
         "3",
         "think worked gb card went south one held pretty well since note update ive month zero issue since transferred note note card reliable",
         "5.0",
         "0.6486"
        ],
        [
         "4",
         "bought retail packaging arrived legit envelope version asian like picture show arrived quickly bought retail packaging htc one lg optimus card working order probably best price youll get nice sd card",
         "5.0",
         "0.8591"
        ],
        [
         "5",
         "mini storage doesnt anything else supposed purchased add additional storage microsoft surface pro tablet come gb supposed sandisk long standing reputation speaks",
         "5.0",
         "0.0"
        ],
        [
         "6",
         "phone never skip beat file transfer speedy corruption issue memory issue would expect sandisk brand great card precious file slightly cheaper piece crap lose everything spending extra couple buck trusted product go good qa",
         "5.0",
         "0.8678"
        ],
        [
         "7",
         "hard believe affordable digital become gb device one quarter postage stamp would less generation picked portable music didnt want risk phone ipod work great sd card confidence",
         "5.0",
         "0.8221"
        ],
        [
         "8",
         "work htc rezound running short space gb sandisk ordered came fast issue",
         "5.0",
         "0.0"
        ],
        [
         "9",
         "galaxy super fast card totally happy happy still type fill required word though",
         "5.0",
         "0.9167"
        ],
        [
         "10",
         "like sd card take music video downloads personal video multimedia image fast transfer rate class speed take game large file easily still enough space apps great video camera camcorder supplied adapter fit easily smartphones tablet sd card slot recommend gb sd card everyone",
         "5.0",
         "0.9371"
        ],
        [
         "11",
         "work file writes bit slower expected usb read writes faster card inside sd adapter mb v write mb v mb read card reader cant figure",
         "3.0",
         "0.0"
        ],
        [
         "12",
         "name speaks go sandisk go",
         "5.0",
         "0.0"
        ],
        [
         "13",
         "solid sdhc card fast reading writing fast recording video pic great capacity reasonably priced issue itoverall highly recommend",
         "5.0",
         "0.8173"
        ],
        [
         "14",
         "heard card write speed insufficient however used extensively havent single problem",
         "5.0",
         "0.3089"
        ],
        [
         "15",
         "bought use go pro hero black edition requires class microsdxc card far ive issue fast readwrite came adapter small packaging thats needed come nice hard plastic case keep dry together needed",
         "5.0",
         "0.7184"
        ],
        [
         "16",
         "got gb one filled kept getting insufficient disk space phone kid take phone selfies mostly daughter get bigger card gb one carry old say sweet plenty space dont delete picture anymore well daughter love selfies",
         "5.0",
         "0.8519"
        ],
        [
         "17",
         "class speed rating seamless full hd sandisk ultra uhsi card feature class uhs speed class u rating highest video performance available recording full hd app card retrieve stored data almost instantly thanks mb read capability fast bus interface sandisk ultra microsdhc microsdxc uhsi card offer faster app loading smoother fluid app capacity card plenty room accommodate full hd video mp apps mobile file available size gb store apps music video app easy file included sandisk memory zone app let easily view access backup digital file phone memory additional memory card cloud service one convenient place using app easily move file card number cloud storage ultra uhsi memory card capture memory degree shockproof waterproof xrayproof design mobile device may survive sandisk memory card",
         "5.0",
         "0.8984"
        ],
        [
         "18",
         "read write speed better samsung sd card previously would hesitate buy another one great micro sd card sandisk also clip plus mp player work well think im becoming fan sandisk product",
         "5.0",
         "0.8519"
        ],
        [
         "19",
         "work video stuttering like gb blah blah blah blah fill rest",
         "5.0",
         "-0.34"
        ],
        [
         "20",
         "work expected high transfer speed nice extra microsd adapter lying around since always seem misplace mainly bought use nikon dslr since put card directly cm nook hd tablet field view image larger screen",
         "5.0",
         "-0.1531"
        ],
        [
         "21",
         "work great samsung galaxy formatted straight away full size cant really tell speed difference one slower card replaced guess io phone cant take advantage",
         "5.0",
         "0.644"
        ],
        [
         "22",
         "sandisk never always sandisk product worth every penny nice product quality work great recommend product everyone",
         "5.0",
         "0.8834"
        ],
        [
         "23",
         "good price work flawless samsung normal sandisk quality go brand brand",
         "5.0",
         "0.7351"
        ],
        [
         "24",
         "san disk hard beat pay brand get quality product would purchase",
         "5.0",
         "-0.2023"
        ],
        [
         "25",
         "installed blackberry q formatted work fine plenty storage space picture video son",
         "5.0",
         "0.2023"
        ],
        [
         "26",
         "received card class gb correct received unopened sandisk packaging going use htc rezound hope work read work reformatting disk update review issue using rating remain",
         "5.0",
         "0.4404"
        ],
        [
         "27",
         "stuck formatted setting work great already filled music pic video get card format right youll problem phone wont right got samsung haha",
         "5.0",
         "0.5267"
        ],
        [
         "28",
         "purchased two one samsung tablet one samsung galaxy note great hardware truly speedy responsive meet need",
         "5.0",
         "0.8591"
        ],
        [
         "29",
         "advertised spec match long device using handle ie usb b delivers advertised speed p speed read write knew right",
         "5.0",
         "0.0"
        ],
        [
         "30",
         "item great cant believe small imagine gb size back whole full computer couldnt pack much space great item",
         "5.0",
         "0.8481"
        ],
        [
         "31",
         "ive trying get hold gb micro sd phone tablet pretty fast compared gb card ive using really saw performance boost phone many apps picture music document phone boot fully stable min min computer also write card much faster gb one using phone tablet device support recommend purchase also pay like half price using amazon opposed retail store who price least double ive seen card going area",
         "5.0",
         "0.9399"
        ],
        [
         "32",
         "bought sandisk gb microsd used galaxy note galaxy one phone started saying removed recognize diedi thought luck plugged nd one stayed month died suddenly lost buying sandisk ever",
         "1.0",
         "-0.4404"
        ],
        [
         "33",
         "memory card excellent condition work described dependable easy use excellent choice enthusiast requires storage",
         "4.0",
         "0.9153"
        ],
        [
         "34",
         "ive got couple varying size ive problem complaint speed always end buying price low get",
         "5.0",
         "-0.7184"
        ],
        [
         "35",
         "gig memory note running room much memory space available dont know",
         "5.0",
         "0.0"
        ],
        [
         "36",
         "bought surface pro ive month ive problem fast stable",
         "5.0",
         "-0.128"
        ],
        [
         "37",
         "would recommend card transfer speed excellent card galaxy didnt need format card anything satisfied",
         "5.0",
         "0.8402"
        ],
        [
         "38",
         "bougth micro sd card got kingston tell sandisk quality best phone read gb fast transfer speed pc amazing looking additional storage phone music picture type file good quality material speedupdate one year memory damaged delete put new file format memory tried format phone pc camera nothing like gb cd data memory available read move delete bought memory used backup data android device readable memory write data hope sandisk make better product future total buy samsung memory card expected better quality",
         "1.0",
         "0.9392"
        ],
        [
         "39",
         "using gps camera dont waste time buying brand waste buy best start",
         "5.0",
         "0.8344"
        ],
        [
         "40",
         "fantastic little drive gigabyte say work way use hold flac recording play excellent fiio x digital audio player real thing one fake",
         "5.0",
         "0.765"
        ],
        [
         "41",
         "happy micro sd could tell difference response time bb curve well asus tablet want something transfer file photo video music faster micro sd card say faster card price trick device professional photographer might want go ultra micro sd everyday user work wonder device",
         "5.0",
         "0.7351"
        ],
        [
         "42",
         "ive purchased several little baby year always buy sandisk ive never one fail price great amount storage get",
         "5.0",
         "0.7876"
        ],
        [
         "43",
         "ordered galaxy lasted month broke accessible several different limited lifetime warranty b one month zone lose picture crappy return future buying kingston sandiskupdate amazon customer service made good refunded purchase price still buying sandisk memory card however",
         "1.0",
         "-0.7506"
        ],
        [
         "44",
         "like mb note thats using sandisks app bit faster note ii still disappointment device quad core sure card device benefit doubt four star",
         "4.0",
         "0.25"
        ],
        [
         "45",
         "much say plug play good quality fit lot video good good good",
         "5.0",
         "0.9382"
        ],
        [
         "46",
         "new camcorder required fast sd micro sandisk product always provided first class service extra cost well worth",
         "5.0",
         "0.4588"
        ],
        [
         "47",
         "tiny marvel claim possible problem small may lose happen drop handling gb capacity wont handling often",
         "5.0",
         "-0.5719"
        ],
        [
         "48",
         "job price right came quickly im happy purchase would recommend would",
         "5.0",
         "0.7351"
        ],
        [
         "49",
         "used month phone decided quit mounting lost picture died shortly got replacement card send old one giving chance recovering content new one worked fine failing month",
         "2.0",
         "-0.6124"
        ]
       ],
       "shape": {
        "columns": 3,
        "rows": 4915
       }
      },
      "text/html": [
       "<div>\n",
       "<style scoped>\n",
       "    .dataframe tbody tr th:only-of-type {\n",
       "        vertical-align: middle;\n",
       "    }\n",
       "\n",
       "    .dataframe tbody tr th {\n",
       "        vertical-align: top;\n",
       "    }\n",
       "\n",
       "    .dataframe thead th {\n",
       "        text-align: right;\n",
       "    }\n",
       "</style>\n",
       "<table border=\"1\" class=\"dataframe\">\n",
       "  <thead>\n",
       "    <tr style=\"text-align: right;\">\n",
       "      <th></th>\n",
       "      <th>reviewText</th>\n",
       "      <th>overall</th>\n",
       "      <th>polarity_scores</th>\n",
       "    </tr>\n",
       "  </thead>\n",
       "  <tbody>\n",
       "    <tr>\n",
       "      <th>0</th>\n",
       "      <td>issue</td>\n",
       "      <td>4.00</td>\n",
       "      <td>0.00</td>\n",
       "    </tr>\n",
       "    <tr>\n",
       "      <th>1</th>\n",
       "      <td>purchased device worked advertised never much ...</td>\n",
       "      <td>5.00</td>\n",
       "      <td>0.00</td>\n",
       "    </tr>\n",
       "    <tr>\n",
       "      <th>2</th>\n",
       "      <td>work expected higher capacity think made bit e...</td>\n",
       "      <td>4.00</td>\n",
       "      <td>0.40</td>\n",
       "    </tr>\n",
       "    <tr>\n",
       "      <th>3</th>\n",
       "      <td>think worked gb card went south one held prett...</td>\n",
       "      <td>5.00</td>\n",
       "      <td>0.65</td>\n",
       "    </tr>\n",
       "    <tr>\n",
       "      <th>4</th>\n",
       "      <td>bought retail packaging arrived legit envelope...</td>\n",
       "      <td>5.00</td>\n",
       "      <td>0.86</td>\n",
       "    </tr>\n",
       "    <tr>\n",
       "      <th>...</th>\n",
       "      <td>...</td>\n",
       "      <td>...</td>\n",
       "      <td>...</td>\n",
       "    </tr>\n",
       "    <tr>\n",
       "      <th>4910</th>\n",
       "      <td>bought sandisk gb class use htc inspire month ...</td>\n",
       "      <td>1.00</td>\n",
       "      <td>0.08</td>\n",
       "    </tr>\n",
       "    <tr>\n",
       "      <th>4911</th>\n",
       "      <td>used capability samsung galaxy note greatly ex...</td>\n",
       "      <td>5.00</td>\n",
       "      <td>0.18</td>\n",
       "    </tr>\n",
       "    <tr>\n",
       "      <th>4912</th>\n",
       "      <td>great card fast reliable come optional adapter...</td>\n",
       "      <td>5.00</td>\n",
       "      <td>0.85</td>\n",
       "    </tr>\n",
       "    <tr>\n",
       "      <th>4913</th>\n",
       "      <td>good amount space stuff want fit gopro say</td>\n",
       "      <td>5.00</td>\n",
       "      <td>0.69</td>\n",
       "    </tr>\n",
       "    <tr>\n",
       "      <th>4914</th>\n",
       "      <td>ive heard bad thing gb micro sd card crapping ...</td>\n",
       "      <td>5.00</td>\n",
       "      <td>0.53</td>\n",
       "    </tr>\n",
       "  </tbody>\n",
       "</table>\n",
       "<p>4915 rows × 3 columns</p>\n",
       "</div>"
      ],
      "text/plain": [
       "                                             reviewText  overall  polarity_scores\n",
       "0                                                 issue     4.00             0.00\n",
       "1     purchased device worked advertised never much ...     5.00             0.00\n",
       "2     work expected higher capacity think made bit e...     4.00             0.40\n",
       "3     think worked gb card went south one held prett...     5.00             0.65\n",
       "4     bought retail packaging arrived legit envelope...     5.00             0.86\n",
       "...                                                 ...      ...              ...\n",
       "4910  bought sandisk gb class use htc inspire month ...     1.00             0.08\n",
       "4911  used capability samsung galaxy note greatly ex...     5.00             0.18\n",
       "4912  great card fast reliable come optional adapter...     5.00             0.85\n",
       "4913         good amount space stuff want fit gopro say     5.00             0.69\n",
       "4914  ive heard bad thing gb micro sd card crapping ...     5.00             0.53\n",
       "\n",
       "[4915 rows x 3 columns]"
      ]
     },
     "execution_count": 14,
     "metadata": {},
     "output_type": "execute_result"
    }
   ],
   "source": [
    "df[['reviewText', 'overall', 'polarity_scores']]"
   ]
  },
  {
   "cell_type": "markdown",
   "id": "e506a390",
   "metadata": {},
   "source": [
    "### Feature Engineering"
   ]
  },
  {
   "cell_type": "code",
   "execution_count": 17,
   "id": "dd31d218",
   "metadata": {},
   "outputs": [],
   "source": [
    "df['sentiment_label'] = df['reviewText'].apply(lambda x: 'pos' if sia.polarity_scores(x)['compound'] > 0 else 'neg')"
   ]
  },
  {
   "cell_type": "code",
   "execution_count": 18,
   "id": "446c8671",
   "metadata": {},
   "outputs": [
    {
     "data": {
      "application/vnd.microsoft.datawrangler.viewer.v0+json": {
       "columns": [
        {
         "name": "index",
         "rawType": "int64",
         "type": "integer"
        },
        {
         "name": "reviewText",
         "rawType": "object",
         "type": "string"
        },
        {
         "name": "polarity_scores",
         "rawType": "float64",
         "type": "float"
        },
        {
         "name": "sentiment_label",
         "rawType": "object",
         "type": "string"
        }
       ],
       "ref": "b528dbd7-0988-46b6-aa0d-368863becb2e",
       "rows": [
        [
         "0",
         "issue",
         "0.0",
         "neg"
        ],
        [
         "1",
         "purchased device worked advertised never much phone memory since download lot stuff brainer",
         "0.0",
         "neg"
        ],
        [
         "2",
         "work expected higher capacity think made bit earlier version paint look clean",
         "0.4019",
         "pos"
        ],
        [
         "3",
         "think worked gb card went south one held pretty well since note update ive month zero issue since transferred note note card reliable",
         "0.6486",
         "pos"
        ],
        [
         "4",
         "bought retail packaging arrived legit envelope version asian like picture show arrived quickly bought retail packaging htc one lg optimus card working order probably best price youll get nice sd card",
         "0.8591",
         "pos"
        ],
        [
         "5",
         "mini storage doesnt anything else supposed purchased add additional storage microsoft surface pro tablet come gb supposed sandisk long standing reputation speaks",
         "0.0",
         "neg"
        ],
        [
         "6",
         "phone never skip beat file transfer speedy corruption issue memory issue would expect sandisk brand great card precious file slightly cheaper piece crap lose everything spending extra couple buck trusted product go good qa",
         "0.8678",
         "pos"
        ],
        [
         "7",
         "hard believe affordable digital become gb device one quarter postage stamp would less generation picked portable music didnt want risk phone ipod work great sd card confidence",
         "0.8221",
         "pos"
        ],
        [
         "8",
         "work htc rezound running short space gb sandisk ordered came fast issue",
         "0.0",
         "neg"
        ],
        [
         "9",
         "galaxy super fast card totally happy happy still type fill required word though",
         "0.9167",
         "pos"
        ],
        [
         "10",
         "like sd card take music video downloads personal video multimedia image fast transfer rate class speed take game large file easily still enough space apps great video camera camcorder supplied adapter fit easily smartphones tablet sd card slot recommend gb sd card everyone",
         "0.9371",
         "pos"
        ],
        [
         "11",
         "work file writes bit slower expected usb read writes faster card inside sd adapter mb v write mb v mb read card reader cant figure",
         "0.0",
         "neg"
        ],
        [
         "12",
         "name speaks go sandisk go",
         "0.0",
         "neg"
        ],
        [
         "13",
         "solid sdhc card fast reading writing fast recording video pic great capacity reasonably priced issue itoverall highly recommend",
         "0.8173",
         "pos"
        ],
        [
         "14",
         "heard card write speed insufficient however used extensively havent single problem",
         "0.3089",
         "pos"
        ],
        [
         "15",
         "bought use go pro hero black edition requires class microsdxc card far ive issue fast readwrite came adapter small packaging thats needed come nice hard plastic case keep dry together needed",
         "0.7184",
         "pos"
        ],
        [
         "16",
         "got gb one filled kept getting insufficient disk space phone kid take phone selfies mostly daughter get bigger card gb one carry old say sweet plenty space dont delete picture anymore well daughter love selfies",
         "0.8519",
         "pos"
        ],
        [
         "17",
         "class speed rating seamless full hd sandisk ultra uhsi card feature class uhs speed class u rating highest video performance available recording full hd app card retrieve stored data almost instantly thanks mb read capability fast bus interface sandisk ultra microsdhc microsdxc uhsi card offer faster app loading smoother fluid app capacity card plenty room accommodate full hd video mp apps mobile file available size gb store apps music video app easy file included sandisk memory zone app let easily view access backup digital file phone memory additional memory card cloud service one convenient place using app easily move file card number cloud storage ultra uhsi memory card capture memory degree shockproof waterproof xrayproof design mobile device may survive sandisk memory card",
         "0.8984",
         "pos"
        ],
        [
         "18",
         "read write speed better samsung sd card previously would hesitate buy another one great micro sd card sandisk also clip plus mp player work well think im becoming fan sandisk product",
         "0.8519",
         "pos"
        ],
        [
         "19",
         "work video stuttering like gb blah blah blah blah fill rest",
         "-0.34",
         "neg"
        ],
        [
         "20",
         "work expected high transfer speed nice extra microsd adapter lying around since always seem misplace mainly bought use nikon dslr since put card directly cm nook hd tablet field view image larger screen",
         "-0.1531",
         "neg"
        ],
        [
         "21",
         "work great samsung galaxy formatted straight away full size cant really tell speed difference one slower card replaced guess io phone cant take advantage",
         "0.644",
         "pos"
        ],
        [
         "22",
         "sandisk never always sandisk product worth every penny nice product quality work great recommend product everyone",
         "0.8834",
         "pos"
        ],
        [
         "23",
         "good price work flawless samsung normal sandisk quality go brand brand",
         "0.7351",
         "pos"
        ],
        [
         "24",
         "san disk hard beat pay brand get quality product would purchase",
         "-0.2023",
         "neg"
        ],
        [
         "25",
         "installed blackberry q formatted work fine plenty storage space picture video son",
         "0.2023",
         "pos"
        ],
        [
         "26",
         "received card class gb correct received unopened sandisk packaging going use htc rezound hope work read work reformatting disk update review issue using rating remain",
         "0.4404",
         "pos"
        ],
        [
         "27",
         "stuck formatted setting work great already filled music pic video get card format right youll problem phone wont right got samsung haha",
         "0.5267",
         "pos"
        ],
        [
         "28",
         "purchased two one samsung tablet one samsung galaxy note great hardware truly speedy responsive meet need",
         "0.8591",
         "pos"
        ],
        [
         "29",
         "advertised spec match long device using handle ie usb b delivers advertised speed p speed read write knew right",
         "0.0",
         "neg"
        ],
        [
         "30",
         "item great cant believe small imagine gb size back whole full computer couldnt pack much space great item",
         "0.8481",
         "pos"
        ],
        [
         "31",
         "ive trying get hold gb micro sd phone tablet pretty fast compared gb card ive using really saw performance boost phone many apps picture music document phone boot fully stable min min computer also write card much faster gb one using phone tablet device support recommend purchase also pay like half price using amazon opposed retail store who price least double ive seen card going area",
         "0.9399",
         "pos"
        ],
        [
         "32",
         "bought sandisk gb microsd used galaxy note galaxy one phone started saying removed recognize diedi thought luck plugged nd one stayed month died suddenly lost buying sandisk ever",
         "-0.4404",
         "neg"
        ],
        [
         "33",
         "memory card excellent condition work described dependable easy use excellent choice enthusiast requires storage",
         "0.9153",
         "pos"
        ],
        [
         "34",
         "ive got couple varying size ive problem complaint speed always end buying price low get",
         "-0.7184",
         "neg"
        ],
        [
         "35",
         "gig memory note running room much memory space available dont know",
         "0.0",
         "neg"
        ],
        [
         "36",
         "bought surface pro ive month ive problem fast stable",
         "-0.128",
         "neg"
        ],
        [
         "37",
         "would recommend card transfer speed excellent card galaxy didnt need format card anything satisfied",
         "0.8402",
         "pos"
        ],
        [
         "38",
         "bougth micro sd card got kingston tell sandisk quality best phone read gb fast transfer speed pc amazing looking additional storage phone music picture type file good quality material speedupdate one year memory damaged delete put new file format memory tried format phone pc camera nothing like gb cd data memory available read move delete bought memory used backup data android device readable memory write data hope sandisk make better product future total buy samsung memory card expected better quality",
         "0.9392",
         "pos"
        ],
        [
         "39",
         "using gps camera dont waste time buying brand waste buy best start",
         "0.8344",
         "pos"
        ],
        [
         "40",
         "fantastic little drive gigabyte say work way use hold flac recording play excellent fiio x digital audio player real thing one fake",
         "0.765",
         "pos"
        ],
        [
         "41",
         "happy micro sd could tell difference response time bb curve well asus tablet want something transfer file photo video music faster micro sd card say faster card price trick device professional photographer might want go ultra micro sd everyday user work wonder device",
         "0.7351",
         "pos"
        ],
        [
         "42",
         "ive purchased several little baby year always buy sandisk ive never one fail price great amount storage get",
         "0.7876",
         "pos"
        ],
        [
         "43",
         "ordered galaxy lasted month broke accessible several different limited lifetime warranty b one month zone lose picture crappy return future buying kingston sandiskupdate amazon customer service made good refunded purchase price still buying sandisk memory card however",
         "-0.7506",
         "neg"
        ],
        [
         "44",
         "like mb note thats using sandisks app bit faster note ii still disappointment device quad core sure card device benefit doubt four star",
         "0.25",
         "pos"
        ],
        [
         "45",
         "much say plug play good quality fit lot video good good good",
         "0.9382",
         "pos"
        ],
        [
         "46",
         "new camcorder required fast sd micro sandisk product always provided first class service extra cost well worth",
         "0.4588",
         "pos"
        ],
        [
         "47",
         "tiny marvel claim possible problem small may lose happen drop handling gb capacity wont handling often",
         "-0.5719",
         "neg"
        ],
        [
         "48",
         "job price right came quickly im happy purchase would recommend would",
         "0.7351",
         "pos"
        ],
        [
         "49",
         "used month phone decided quit mounting lost picture died shortly got replacement card send old one giving chance recovering content new one worked fine failing month",
         "-0.6124",
         "neg"
        ]
       ],
       "shape": {
        "columns": 3,
        "rows": 4915
       }
      },
      "text/html": [
       "<div>\n",
       "<style scoped>\n",
       "    .dataframe tbody tr th:only-of-type {\n",
       "        vertical-align: middle;\n",
       "    }\n",
       "\n",
       "    .dataframe tbody tr th {\n",
       "        vertical-align: top;\n",
       "    }\n",
       "\n",
       "    .dataframe thead th {\n",
       "        text-align: right;\n",
       "    }\n",
       "</style>\n",
       "<table border=\"1\" class=\"dataframe\">\n",
       "  <thead>\n",
       "    <tr style=\"text-align: right;\">\n",
       "      <th></th>\n",
       "      <th>reviewText</th>\n",
       "      <th>polarity_scores</th>\n",
       "      <th>sentiment_label</th>\n",
       "    </tr>\n",
       "  </thead>\n",
       "  <tbody>\n",
       "    <tr>\n",
       "      <th>0</th>\n",
       "      <td>issue</td>\n",
       "      <td>0.00</td>\n",
       "      <td>neg</td>\n",
       "    </tr>\n",
       "    <tr>\n",
       "      <th>1</th>\n",
       "      <td>purchased device worked advertised never much ...</td>\n",
       "      <td>0.00</td>\n",
       "      <td>neg</td>\n",
       "    </tr>\n",
       "    <tr>\n",
       "      <th>2</th>\n",
       "      <td>work expected higher capacity think made bit e...</td>\n",
       "      <td>0.40</td>\n",
       "      <td>pos</td>\n",
       "    </tr>\n",
       "    <tr>\n",
       "      <th>3</th>\n",
       "      <td>think worked gb card went south one held prett...</td>\n",
       "      <td>0.65</td>\n",
       "      <td>pos</td>\n",
       "    </tr>\n",
       "    <tr>\n",
       "      <th>4</th>\n",
       "      <td>bought retail packaging arrived legit envelope...</td>\n",
       "      <td>0.86</td>\n",
       "      <td>pos</td>\n",
       "    </tr>\n",
       "    <tr>\n",
       "      <th>...</th>\n",
       "      <td>...</td>\n",
       "      <td>...</td>\n",
       "      <td>...</td>\n",
       "    </tr>\n",
       "    <tr>\n",
       "      <th>4910</th>\n",
       "      <td>bought sandisk gb class use htc inspire month ...</td>\n",
       "      <td>0.08</td>\n",
       "      <td>pos</td>\n",
       "    </tr>\n",
       "    <tr>\n",
       "      <th>4911</th>\n",
       "      <td>used capability samsung galaxy note greatly ex...</td>\n",
       "      <td>0.18</td>\n",
       "      <td>pos</td>\n",
       "    </tr>\n",
       "    <tr>\n",
       "      <th>4912</th>\n",
       "      <td>great card fast reliable come optional adapter...</td>\n",
       "      <td>0.85</td>\n",
       "      <td>pos</td>\n",
       "    </tr>\n",
       "    <tr>\n",
       "      <th>4913</th>\n",
       "      <td>good amount space stuff want fit gopro say</td>\n",
       "      <td>0.69</td>\n",
       "      <td>pos</td>\n",
       "    </tr>\n",
       "    <tr>\n",
       "      <th>4914</th>\n",
       "      <td>ive heard bad thing gb micro sd card crapping ...</td>\n",
       "      <td>0.53</td>\n",
       "      <td>pos</td>\n",
       "    </tr>\n",
       "  </tbody>\n",
       "</table>\n",
       "<p>4915 rows × 3 columns</p>\n",
       "</div>"
      ],
      "text/plain": [
       "                                             reviewText  polarity_scores sentiment_label\n",
       "0                                                 issue             0.00             neg\n",
       "1     purchased device worked advertised never much ...             0.00             neg\n",
       "2     work expected higher capacity think made bit e...             0.40             pos\n",
       "3     think worked gb card went south one held prett...             0.65             pos\n",
       "4     bought retail packaging arrived legit envelope...             0.86             pos\n",
       "...                                                 ...              ...             ...\n",
       "4910  bought sandisk gb class use htc inspire month ...             0.08             pos\n",
       "4911  used capability samsung galaxy note greatly ex...             0.18             pos\n",
       "4912  great card fast reliable come optional adapter...             0.85             pos\n",
       "4913         good amount space stuff want fit gopro say             0.69             pos\n",
       "4914  ive heard bad thing gb micro sd card crapping ...             0.53             pos\n",
       "\n",
       "[4915 rows x 3 columns]"
      ]
     },
     "execution_count": 18,
     "metadata": {},
     "output_type": "execute_result"
    }
   ],
   "source": [
    "df[['reviewText', 'polarity_scores', 'sentiment_label']]"
   ]
  },
  {
   "cell_type": "code",
   "execution_count": 19,
   "id": "7158d9bb",
   "metadata": {},
   "outputs": [
    {
     "data": {
      "application/vnd.microsoft.datawrangler.viewer.v0+json": {
       "columns": [
        {
         "name": "sentiment_label",
         "rawType": "object",
         "type": "string"
        },
        {
         "name": "count",
         "rawType": "int64",
         "type": "integer"
        }
       ],
       "ref": "5f790a18-463b-4928-b2c4-4816910ddd57",
       "rows": [
        [
         "pos",
         "3944"
        ],
        [
         "neg",
         "971"
        ]
       ],
       "shape": {
        "columns": 1,
        "rows": 2
       }
      },
      "text/plain": [
       "sentiment_label\n",
       "pos    3944\n",
       "neg     971\n",
       "Name: count, dtype: int64"
      ]
     },
     "execution_count": 19,
     "metadata": {},
     "output_type": "execute_result"
    }
   ],
   "source": [
    "df['sentiment_label'].value_counts()"
   ]
  },
  {
   "cell_type": "code",
   "execution_count": 20,
   "id": "cba30126",
   "metadata": {},
   "outputs": [
    {
     "data": {
      "application/vnd.microsoft.datawrangler.viewer.v0+json": {
       "columns": [
        {
         "name": "sentiment_label",
         "rawType": "object",
         "type": "string"
        },
        {
         "name": "overall",
         "rawType": "float64",
         "type": "float"
        }
       ],
       "ref": "7ba85213-c0f1-4331-b4f2-c9b2eb6937bf",
       "rows": [
        [
         "neg",
         "4.094747682801236"
        ],
        [
         "pos",
         "4.7089249492900604"
        ]
       ],
       "shape": {
        "columns": 1,
        "rows": 2
       }
      },
      "text/plain": [
       "sentiment_label\n",
       "neg   4.09\n",
       "pos   4.71\n",
       "Name: overall, dtype: float64"
      ]
     },
     "execution_count": 20,
     "metadata": {},
     "output_type": "execute_result"
    }
   ],
   "source": [
    "df.groupby('sentiment_label')['overall'].mean()"
   ]
  },
  {
   "cell_type": "markdown",
   "id": "697ee789",
   "metadata": {},
   "source": [
    "### Count vectors"
   ]
  },
  {
   "cell_type": "code",
   "execution_count": 21,
   "id": "935f63cd",
   "metadata": {},
   "outputs": [],
   "source": [
    "df['sentiment_label'] = LabelEncoder().fit_transform(df['sentiment_label'])"
   ]
  },
  {
   "cell_type": "code",
   "execution_count": 22,
   "id": "61bd4a78",
   "metadata": {},
   "outputs": [],
   "source": [
    "y = df['sentiment_label']\n",
    "X = df['reviewText']"
   ]
  },
  {
   "cell_type": "code",
   "execution_count": 23,
   "id": "1d3c60db",
   "metadata": {},
   "outputs": [],
   "source": [
    "from sklearn.feature_extraction.text import CountVectorizer\n",
    "\n",
    "vectorizer = CountVectorizer()\n",
    "X_count = vectorizer.fit_transform(X)"
   ]
  },
  {
   "cell_type": "code",
   "execution_count": 26,
   "id": "51e2d877",
   "metadata": {},
   "outputs": [
    {
     "data": {
      "text/plain": [
       "array(['ability', 'able', 'absolute', 'absolutely', 'abuse', 'accept',\n",
       "       'acceptable', 'accepted', 'accepting', 'accepts'], dtype=object)"
      ]
     },
     "execution_count": 26,
     "metadata": {},
     "output_type": "execute_result"
    }
   ],
   "source": [
    "vectorizer.get_feature_names_out()[0:10]"
   ]
  },
  {
   "cell_type": "markdown",
   "id": "86033d98",
   "metadata": {},
   "source": [
    "### TF-IDF"
   ]
  },
  {
   "cell_type": "code",
   "execution_count": 27,
   "id": "26ded226",
   "metadata": {},
   "outputs": [],
   "source": [
    "from sklearn.feature_extraction.text import TfidfVectorizer\n",
    "\n",
    "tf_idf_word_vectorizer = TfidfVectorizer()\n",
    "X_tf_idf_word = tf_idf_word_vectorizer.fit_transform(X)"
   ]
  },
  {
   "cell_type": "markdown",
   "id": "f4cfdb06",
   "metadata": {},
   "source": [
    "### Sentiment Modelling"
   ]
  },
  {
   "cell_type": "code",
   "execution_count": 30,
   "id": "f81ab75e",
   "metadata": {},
   "outputs": [],
   "source": [
    "from sklearn.model_selection import train_test_split\n",
    "from sklearn.linear_model import LogisticRegression\n",
    "from sklearn.metrics import accuracy_score, classification_report, confusion_matrix"
   ]
  },
  {
   "cell_type": "code",
   "execution_count": 31,
   "id": "fade859a",
   "metadata": {},
   "outputs": [],
   "source": [
    "X_train, X_test, y_train, y_test = train_test_split(\n",
    "    X_tf_idf_word, y, test_size=0.2, random_state=42, stratify=y\n",
    ")"
   ]
  },
  {
   "cell_type": "code",
   "execution_count": 40,
   "id": "1d5be920",
   "metadata": {},
   "outputs": [
    {
     "data": {
      "text/plain": [
       "np.float64(0.8299084435401831)"
      ]
     },
     "execution_count": 40,
     "metadata": {},
     "output_type": "execute_result"
    }
   ],
   "source": [
    "log_reg = LogisticRegression().fit(X_train, y_train)\n",
    "cross_val_score(log_reg, X_tf_idf_word, y, cv=5, scoring='accuracy').mean()"
   ]
  },
  {
   "cell_type": "code",
   "execution_count": 41,
   "id": "bc69af34",
   "metadata": {},
   "outputs": [],
   "source": [
    "new_review = [\"This product is great! I love it.\"]\n",
    "new_review_vectorized = TfidfVectorizer().fit(X).transform(new_review)"
   ]
  },
  {
   "cell_type": "code",
   "execution_count": 42,
   "id": "073cd38b",
   "metadata": {},
   "outputs": [
    {
     "data": {
      "text/plain": [
       "array([1])"
      ]
     },
     "execution_count": 42,
     "metadata": {},
     "output_type": "execute_result"
    }
   ],
   "source": [
    "log_reg.predict(new_review_vectorized)"
   ]
  },
  {
   "cell_type": "code",
   "execution_count": 43,
   "id": "ef3b0225",
   "metadata": {},
   "outputs": [
    {
     "data": {
      "application/vnd.microsoft.datawrangler.viewer.v0+json": {
       "columns": [
        {
         "name": "index",
         "rawType": "int64",
         "type": "integer"
        },
        {
         "name": "0",
         "rawType": "object",
         "type": "string"
        }
       ],
       "ref": "7502f155-dd65-46bc-be72-886e6d370d21",
       "rows": [
        [
         "0",
         "easy install good performance used phone photo machine computer extra space cell phone"
        ]
       ],
       "shape": {
        "columns": 1,
        "rows": 1
       }
      },
      "text/plain": [
       "0    easy install good performance used phone photo...\n",
       "dtype: object"
      ]
     },
     "execution_count": 43,
     "metadata": {},
     "output_type": "execute_result"
    }
   ],
   "source": [
    "random_review = pd.Series(df['reviewText'].sample(1).values)\n",
    "random_review"
   ]
  },
  {
   "cell_type": "code",
   "execution_count": 44,
   "id": "7a6ecd7e",
   "metadata": {},
   "outputs": [
    {
     "data": {
      "text/plain": [
       "array([1])"
      ]
     },
     "execution_count": 44,
     "metadata": {},
     "output_type": "execute_result"
    }
   ],
   "source": [
    "log_reg.predict(TfidfVectorizer().fit(X).transform(random_review))"
   ]
  },
  {
   "cell_type": "markdown",
   "id": "ac7e5982",
   "metadata": {},
   "source": [
    "### Random Forest"
   ]
  },
  {
   "cell_type": "code",
   "execution_count": 45,
   "id": "c7813e0e",
   "metadata": {},
   "outputs": [
    {
     "name": "stdout",
     "output_type": "stream",
     "text": [
      "Fitting 5 folds for each of 54 candidates, totalling 270 fits\n"
     ]
    }
   ],
   "source": [
    "rf_model = RandomForestClassifier(random_state=17)\n",
    "\n",
    "rf_params = {\n",
    "    \"max_depth\": [5, 8, None],\n",
    "    \"n_estimators\": [100, 200],\n",
    "    \"min_samples_split\": [2, 5, 8],\n",
    "    \"max_features\": [3, 5, 7]\n",
    "}\n",
    "\n",
    "rf_best_grid = GridSearchCV(rf_model, rf_params, cv=5, n_jobs=-1, verbose=True).fit(X_train, y_train)"
   ]
  },
  {
   "cell_type": "code",
   "execution_count": 46,
   "id": "7d98b09f",
   "metadata": {},
   "outputs": [
    {
     "data": {
      "text/plain": [
       "{'max_depth': None,\n",
       " 'max_features': 7,\n",
       " 'min_samples_split': 2,\n",
       " 'n_estimators': 100}"
      ]
     },
     "execution_count": 46,
     "metadata": {},
     "output_type": "execute_result"
    }
   ],
   "source": [
    "rf_best_grid.best_params_"
   ]
  },
  {
   "cell_type": "code",
   "execution_count": 47,
   "id": "bdcad335",
   "metadata": {},
   "outputs": [],
   "source": [
    "rf_final = RandomForestClassifier(**rf_best_grid.best_params_).fit(X_train, y_train)"
   ]
  },
  {
   "cell_type": "code",
   "execution_count": 50,
   "id": "0e5d18c8",
   "metadata": {},
   "outputs": [
    {
     "data": {
      "text/plain": [
       "np.float64(0.8115971515768058)"
      ]
     },
     "execution_count": 50,
     "metadata": {},
     "output_type": "execute_result"
    }
   ],
   "source": [
    "cross_val_score(rf_final, X_tf_idf_word, y, cv=5, scoring='accuracy').mean()"
   ]
  }
 ],
 "metadata": {
  "kernelspec": {
   "display_name": ".venv (3.12.9)",
   "language": "python",
   "name": "python3"
  },
  "language_info": {
   "codemirror_mode": {
    "name": "ipython",
    "version": 3
   },
   "file_extension": ".py",
   "mimetype": "text/x-python",
   "name": "python",
   "nbconvert_exporter": "python",
   "pygments_lexer": "ipython3",
   "version": "3.12.9"
  }
 },
 "nbformat": 4,
 "nbformat_minor": 5
}
